{
 "cells": [
  {
   "cell_type": "code",
   "execution_count": 1,
   "id": "c78220bc",
   "metadata": {},
   "outputs": [],
   "source": [
    "import requests\n",
    "from dotenv import load_dotenv\n",
    "import os\n",
    "import json\n",
    "import pandas as pd\n",
    "import sqlite3\n",
    "from datetime import datetime"
   ]
  },
  {
   "cell_type": "code",
   "execution_count": 3,
   "id": "afce2c4e",
   "metadata": {},
   "outputs": [
    {
     "data": {
      "text/plain": [
       "True"
      ]
     },
     "execution_count": 3,
     "metadata": {},
     "output_type": "execute_result"
    }
   ],
   "source": [
    "# this loads in environment variables\n",
    "# fancy way to keep tokens secret and secure\n",
    "load_dotenv()"
   ]
  },
  {
   "cell_type": "markdown",
   "id": "4e4f77d5",
   "metadata": {},
   "source": [
    "# Authentication with Concur API\n",
    "This relies on the refresh token being refreshed at least 1 every 6 months. If this expires a new JWT Company Token would need to be produced by going onto Concur as an authentiaction admin.\n",
    "\n",
    "Use the refresh token to get a new access token. Access tokens expire every hour and can be refreshed using the refresh token.\n",
    "\n",
    "This resets the timer on both tokens as it writes a new access and refresh token back to the token.json file."
   ]
  },
  {
   "cell_type": "code",
   "execution_count": 4,
   "id": "f95c47a5",
   "metadata": {},
   "outputs": [],
   "source": [
    "# get vars from environment variables and reads in token values from JWT\n",
    "token_url = r\"https://us2.api.concursolutions.com/oauth2/v0/token\"\n",
    "client_id = os.getenv('client_id')\n",
    "client_secret = os.getenv('client_secret')\n",
    "with open(\"token.json\", \"r\") as f:\n",
    "    read_token = json.load(f)\n",
    "    refresh_token = read_token['refresh_token']\n",
    "\n",
    "token_headers = {\n",
    "    \"Content-Type\": \"application/x-www-form-urlencoded\",\n",
    "    \"Connection\": \"close\"\n",
    "}\n",
    "\n",
    "token_data = {\n",
    "    \"client_id\": client_id,\n",
    "    \"client_secret\": client_secret,\n",
    "    \"grant_type\": \"refresh_token\",\n",
    "    \"refresh_token\": refresh_token,\n",
    "}\n",
    "\n",
    "# make request using refresh token to get new access token\n",
    "# access token needs to be refreshed every hour\n",
    "token_response = requests.post(token_url, headers=token_headers, data=token_data)\n",
    "\n",
    "token_json = token_response.json()\n",
    "token_write = json.dumps(token_json)\n",
    "\n",
    "access_token = token_json['access_token']\n",
    "refresh_token = token_json['refresh_token']\n",
    "\n",
    "with open(\"token.json\", \"w\") as f:\n",
    "    f.write(token_write)\n",
    "    \n",
    "heads = {\n",
    "    \"Accept\": \"application/json\",\n",
    "    \"Authorization\": \"Bearer \" + access_token}"
   ]
  },
  {
   "cell_type": "markdown",
   "id": "03199fe8",
   "metadata": {},
   "source": [
    "# Get data from Concur API\n",
    "This first gets a list of all unsubmitted reports and then makes a request for each via a for loop to get the \"isPendingDelegatorReview\" status."
   ]
  },
  {
   "cell_type": "code",
   "execution_count": 5,
   "id": "34304dda",
   "metadata": {},
   "outputs": [],
   "source": [
    "# get all reports with unsubmitted status\n",
    "reports_url = r\"https://www.concursolutions.com/api/v3.0/expense/reports?limit=100&user=ALL&approvalStatusCode=A_NOTF\"\n",
    "reports_r = requests.get(reports_url, headers=heads)\n",
    "reports_json = reports_r.json()\n",
    "rep_data = []\n",
    "rep_data += reports_json[\"Items\"]\n",
    "\n",
    "while reports_json[\"NextPage\"] != None:\n",
    "    reports_url = reports_json[\"NextPage\"]\n",
    "    reports_r = requests.get(reports_url, headers=heads)\n",
    "    reports_json = reports_r.json()\n",
    "    \n",
    "    rep_data += reports_json[\"Items\"]\n",
    "    \n",
    "\n",
    "# get updates on all of the reports that are waiting to be submitted\n",
    "reports_v4_url = r\"https://us2.api.concursolutions.com/expensereports/v4/reports/\"\n",
    "rep_del_list = []\n",
    "for rep in rep_data:\n",
    "    \n",
    "    # build request\n",
    "    rep_id = rep[\"ID\"]\n",
    "    url = reports_v4_url + rep_id\n",
    "    rep_json = requests.get(url, headers=heads).json()\n",
    "    \n",
    "    # append report ID and status to list as json object\n",
    "    txn = {}\n",
    "    status = rep_json[\"isPendingDelegatorReview\"]\n",
    "    txn['report_id'] = rep_id\n",
    "    txn['is_pending_delegator_review'] = status\n",
    "    \n",
    "    txn['date_extracted_at'] = datetime.now()\n",
    "    rep_del_list.append(txn)"
   ]
  },
  {
   "cell_type": "markdown",
   "id": "99f1c36f",
   "metadata": {},
   "source": [
    "# Write to DB"
   ]
  },
  {
   "cell_type": "code",
   "execution_count": 6,
   "id": "f15bf489",
   "metadata": {},
   "outputs": [],
   "source": [
    "# write data to dataframe\n",
    "df = pd.DataFrame.from_dict(rep_del_list)\n",
    "\n",
    "# create connection to sqlite db and overwrite table\n",
    "conn = sqlite3.connect(\"B:\\Finance\\Firm Integration\\Expense & GL Project\\99. db\\system_config.sqlite\")\n",
    "df.to_sql(\"report_delegator_status\", conn, if_exists=\"replace\", index=False)\n",
    "\n",
    "conn.close()"
   ]
  },
  {
   "cell_type": "code",
   "execution_count": 7,
   "id": "70810e43",
   "metadata": {},
   "outputs": [
    {
     "data": {
      "text/html": [
       "<div>\n",
       "<style scoped>\n",
       "    .dataframe tbody tr th:only-of-type {\n",
       "        vertical-align: middle;\n",
       "    }\n",
       "\n",
       "    .dataframe tbody tr th {\n",
       "        vertical-align: top;\n",
       "    }\n",
       "\n",
       "    .dataframe thead th {\n",
       "        text-align: right;\n",
       "    }\n",
       "</style>\n",
       "<table border=\"1\" class=\"dataframe\">\n",
       "  <thead>\n",
       "    <tr style=\"text-align: right;\">\n",
       "      <th></th>\n",
       "      <th>report_id</th>\n",
       "      <th>is_pending_delegator_review</th>\n",
       "      <th>date_extracted_at</th>\n",
       "    </tr>\n",
       "  </thead>\n",
       "  <tbody>\n",
       "    <tr>\n",
       "      <th>0</th>\n",
       "      <td>93204E27263B4B2EBCBF</td>\n",
       "      <td>False</td>\n",
       "      <td>2023-07-12 10:50:24.402976</td>\n",
       "    </tr>\n",
       "    <tr>\n",
       "      <th>1</th>\n",
       "      <td>3D6F8A598E7E49528903</td>\n",
       "      <td>False</td>\n",
       "      <td>2023-07-12 10:50:24.663359</td>\n",
       "    </tr>\n",
       "    <tr>\n",
       "      <th>2</th>\n",
       "      <td>03D9F9835D2A4DA8A587</td>\n",
       "      <td>False</td>\n",
       "      <td>2023-07-12 10:50:24.989321</td>\n",
       "    </tr>\n",
       "    <tr>\n",
       "      <th>3</th>\n",
       "      <td>16F5AFA4C3BE4CB0B426</td>\n",
       "      <td>False</td>\n",
       "      <td>2023-07-12 10:50:25.262395</td>\n",
       "    </tr>\n",
       "    <tr>\n",
       "      <th>4</th>\n",
       "      <td>64C082C0C38B497CA623</td>\n",
       "      <td>False</td>\n",
       "      <td>2023-07-12 10:50:25.547779</td>\n",
       "    </tr>\n",
       "  </tbody>\n",
       "</table>\n",
       "</div>"
      ],
      "text/plain": [
       "              report_id  is_pending_delegator_review   \n",
       "0  93204E27263B4B2EBCBF                        False  \\\n",
       "1  3D6F8A598E7E49528903                        False   \n",
       "2  03D9F9835D2A4DA8A587                        False   \n",
       "3  16F5AFA4C3BE4CB0B426                        False   \n",
       "4  64C082C0C38B497CA623                        False   \n",
       "\n",
       "           date_extracted_at  \n",
       "0 2023-07-12 10:50:24.402976  \n",
       "1 2023-07-12 10:50:24.663359  \n",
       "2 2023-07-12 10:50:24.989321  \n",
       "3 2023-07-12 10:50:25.262395  \n",
       "4 2023-07-12 10:50:25.547779  "
      ]
     },
     "execution_count": 7,
     "metadata": {},
     "output_type": "execute_result"
    }
   ],
   "source": [
    "df.head()"
   ]
  }
 ],
 "metadata": {
  "kernelspec": {
   "display_name": "venv",
   "language": "python",
   "name": "venv"
  },
  "language_info": {
   "codemirror_mode": {
    "name": "ipython",
    "version": 3
   },
   "file_extension": ".py",
   "mimetype": "text/x-python",
   "name": "python",
   "nbconvert_exporter": "python",
   "pygments_lexer": "ipython3",
   "version": "3.11.1"
  }
 },
 "nbformat": 4,
 "nbformat_minor": 5
}
